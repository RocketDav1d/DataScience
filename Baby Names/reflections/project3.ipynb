{
 "cells": [
  {
   "attachments": {},
   "cell_type": "markdown",
   "metadata": {},
   "source": [
    "### Learnings \"Timelines of Baby names\""
   ]
  },
  {
   "attachments": {},
   "cell_type": "markdown",
   "metadata": {},
   "source": [
    "I learned:\n",
    "\n",
    "Reading and concatenating multiple data files\n",
    "\n",
    "Aggregating and visualizing data by calculating the total number of births for each year and visualizing the timeline using a line plot.\n",
    "\n",
    "Analyzing specific names and I learned how to handle missing data and create line plots with appropriate labels.\n",
    "\n",
    "And most of all, Normalizing data. I repeated the previous tasks after normalizing the data by dividing the count of a given name by the total number of births for that year. This allowed me to understand the importance of normalization in data analysis and visualization.\n"
   ]
  }
 ],
 "metadata": {
  "language_info": {
   "name": "python"
  },
  "orig_nbformat": 4
 },
 "nbformat": 4,
 "nbformat_minor": 2
}
