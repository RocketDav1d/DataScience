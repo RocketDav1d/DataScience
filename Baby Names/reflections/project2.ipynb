{
 "cells": [
  {
   "attachments": {},
   "cell_type": "markdown",
   "metadata": {},
   "source": [
    "### Learnings \"Last Letter\""
   ]
  },
  {
   "attachments": {},
   "cell_type": "markdown",
   "metadata": {},
   "source": [
    "During this Data Science exercise, I gained significant insights and expanded my knowledge in several key areas:\n",
    "\n",
    "Importing necessary libraries: I learned to import essential libraries such as pandas, pyplot, and seaborn for data manipulation, analysis, and visualization.\n",
    "\n",
    "Reading multiple data files and concatenating: I discovered how to read multiple data files with a similar structure, add an extra column to each file, and concatenate them into a single DataFrame.\n",
    "\n",
    "Data aggregation by year: I practiced calculating the total number of births for each year and visualizing the timeline using a line plot.\n",
    "\n"
   ]
  }
 ],
 "metadata": {
  "language_info": {
   "name": "python"
  },
  "orig_nbformat": 4
 },
 "nbformat": 4,
 "nbformat_minor": 2
}
