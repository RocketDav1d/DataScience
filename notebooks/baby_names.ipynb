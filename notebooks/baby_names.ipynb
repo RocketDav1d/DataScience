{
 "cells": [
  {
   "cell_type": "markdown",
   "metadata": {},
   "source": [
    "Read Baby Name Data"
   ]
  },
  {
   "cell_type": "markdown",
   "metadata": {},
   "source": [
    "Task 1: \n",
    "- how many columns?\n",
    "    3\n",
    "- how are the columns seperated ?\n",
    "    seperated by comma  \n",
    "- is there a header on top of the files ?\n",
    "    no header"
   ]
  },
  {
   "cell_type": "code",
   "execution_count": 3,
   "metadata": {},
   "outputs": [],
   "source": [
    "import pandas as pd"
   ]
  },
  {
   "cell_type": "code",
   "execution_count": 8,
   "metadata": {},
   "outputs": [],
   "source": [
    "baby_names = pd.read_csv(\"../datasets/names/yob2021.txt\", header=None)"
   ]
  },
  {
   "cell_type": "code",
   "execution_count": 33,
   "metadata": {},
   "outputs": [
    {
     "name": "stdout",
     "output_type": "stream",
     "text": [
      "           0  1      2\n",
      "0     Olivia  F  17728\n",
      "1       Emma  F  15433\n",
      "2  Charlotte  F  13285\n",
      "3     Amelia  F  12952\n",
      "4        Ava  F  12759\n",
      "5     Sophia  F  12496\n",
      "6   Isabella  F  11201\n",
      "7        Mia  F  11096\n",
      "8     Evelyn  F   9434\n",
      "9     Harper  F   8388\n"
     ]
    }
   ],
   "source": [
    "# print out first 10 rows\n",
    "print(baby_names.head(10))"
   ]
  },
  {
   "cell_type": "code",
   "execution_count": 12,
   "metadata": {},
   "outputs": [
    {
     "name": "stdout",
     "output_type": "stream",
     "text": [
      "31537\n"
     ]
    }
   ],
   "source": [
    "# print out the number of rows in the dataset\n",
    "print(len(baby_names))"
   ]
  },
  {
   "cell_type": "code",
   "execution_count": 13,
   "metadata": {},
   "outputs": [
    {
     "name": "stdout",
     "output_type": "stream",
     "text": [
      "3\n"
     ]
    }
   ],
   "source": [
    "# print out the number of columns in the dataset\n",
    "print(len(baby_names.columns))"
   ]
  },
  {
   "cell_type": "code",
   "execution_count": 19,
   "metadata": {},
   "outputs": [
    {
     "name": "stdout",
     "output_type": "stream",
     "text": [
      "[['Olivia', 'F', 17728], ['Emma', 'F', 15433], ['Charlotte', 'F', 13285], ['Amelia', 'F', 12952], ['Ava', 'F', 12759], ['Sophia', 'F', 12496], ['Isabella', 'F', 11201], ['Mia', 'F', 11096], ['Evelyn', 'F', 9434], ['Harper', 'F', 8388]]\n",
      "[17728, 15433, 13285, 12952, 12759, 12496, 11201, 11096, 9434, 8388]\n"
     ]
    }
   ],
   "source": [
    "# create list with all the baby counters in the dataset\n",
    "babies_list = baby_names.values.tolist()\n",
    "print(babies_list[0:10])\n",
    "babies_counter = [i[2] for i in babies_list]\n",
    "print(babies_counter[0:10])"
   ]
  },
  {
   "cell_type": "code",
   "execution_count": 21,
   "metadata": {},
   "outputs": [
    {
     "name": "stdout",
     "output_type": "stream",
     "text": [
      "3361375\n"
     ]
    }
   ],
   "source": [
    "# calculate the total number of babies born in 2021\n",
    "print(sum(babies_counter))"
   ]
  },
  {
   "cell_type": "code",
   "execution_count": 28,
   "metadata": {},
   "outputs": [
    {
     "name": "stdout",
     "output_type": "stream",
     "text": [
      "[17728, 15433, 13285, 12952, 12759, 12496, 11201, 11096, 9434, 8388]\n",
      "[20272, 18739, 14616, 12708, 12367, 12088, 11791, 11501, 11307, 9535]\n"
     ]
    }
   ],
   "source": [
    "babies_counter_male = []\n",
    "babies_counter_female = []\n",
    "for i in babies_list:\n",
    "    if i[1] == \"M\":\n",
    "        babies_counter_male.append(i[2])\n",
    "    elif i[1] == \"F\":\n",
    "        babies_counter_female.append(i[2])\n",
    "print(babies_counter_female[0:10])\n",
    "print(babies_counter_male[0:10])"
   ]
  },
  {
   "cell_type": "code",
   "execution_count": 29,
   "metadata": {},
   "outputs": [],
   "source": [
    "sum_of_boys = (sum(babies_counter_male))\n",
    "sum_of_girls = (sum(babies_counter_female))"
   ]
  },
  {
   "cell_type": "code",
   "execution_count": 32,
   "metadata": {},
   "outputs": [
    {
     "name": "stdout",
     "output_type": "stream",
     "text": [
      "number boys: 1734277 | sum girls: 1627098\n"
     ]
    }
   ],
   "source": [
    "print('number boys: ' + str(sum_of_boys) + ' | ' + 'sum girls: ' + str(sum_of_girls))"
   ]
  },
  {
   "cell_type": "code",
   "execution_count": 41,
   "metadata": {},
   "outputs": [
    {
     "name": "stdout",
     "output_type": "stream",
     "text": [
      "3361375\n"
     ]
    }
   ],
   "source": [
    "# Calculate the total number of babies born in 2021 by using the iloc method\n",
    "amounts = baby_names.iloc[:, 2]\n",
    "print(sum(amounts))"
   ]
  },
  {
   "cell_type": "code",
   "execution_count": 84,
   "metadata": {},
   "outputs": [
    {
     "name": "stdout",
     "output_type": "stream",
     "text": [
      "1734277\n"
     ]
    }
   ],
   "source": [
    "males = baby_names[baby_names[1] == \"M\"]\n",
    "male_amounts = males.iloc[:, 2]\n",
    "print(sum(male_amounts))"
   ]
  },
  {
   "cell_type": "code",
   "execution_count": 85,
   "metadata": {},
   "outputs": [
    {
     "name": "stdout",
     "output_type": "stream",
     "text": [
      "1627098\n"
     ]
    }
   ],
   "source": [
    "females = baby_names[baby_names[1] == \"F\"]\n",
    "female_amounts = females.iloc[:, 2]\n",
    "print(sum(female_amounts))"
   ]
  },
  {
   "cell_type": "code",
   "execution_count": 86,
   "metadata": {},
   "outputs": [
    {
     "name": "stdout",
     "output_type": "stream",
     "text": [
      "           0  1     2\n",
      "9675   David  F    10\n",
      "17573  David  M  7843\n"
     ]
    }
   ],
   "source": [
    "david = baby_names[baby_names[0] == \"David\"]\n",
    "print(david)"
   ]
  },
  {
   "cell_type": "code",
   "execution_count": 87,
   "metadata": {},
   "outputs": [
    {
     "name": "stdout",
     "output_type": "stream",
     "text": [
      "51.59427317689933\n",
      "48.405726823100665\n"
     ]
    }
   ],
   "source": [
    "percentage_boys = (sum(male_amounts) / sum(amounts)) * 100\n",
    "print(percentage_boys)\n",
    "percentage_girls = (sum(female_amounts) / sum(amounts)) * 100\n",
    "print(percentage_girls)"
   ]
  },
  {
   "cell_type": "code",
   "execution_count": 88,
   "metadata": {},
   "outputs": [],
   "source": [
    "males.set_index(0, inplace=True)\n",
    "females.set_index(0, inplace=True)"
   ]
  },
  {
   "cell_type": "code",
   "execution_count": 89,
   "metadata": {},
   "outputs": [
    {
     "name": "stdout",
     "output_type": "stream",
     "text": [
      "        1      2\n",
      "0               \n",
      "Liam    M  20272\n",
      "Noah    M  18739\n",
      "Oliver  M  14616\n",
      "Elijah  M  12708\n",
      "James   M  12367\n",
      "...    ..    ...\n",
      "Zyeire  M      5\n",
      "Zyel    M      5\n",
      "Zyian   M      5\n",
      "Zylar   M      5\n",
      "Zyn     M      5\n",
      "\n",
      "[13993 rows x 2 columns]\n",
      "           1      2\n",
      "0                  \n",
      "Olivia     F  17728\n",
      "Emma       F  15433\n",
      "Charlotte  F  13285\n",
      "Amelia     F  12952\n",
      "Ava        F  12759\n",
      "...       ..    ...\n",
      "Zylynn     F      5\n",
      "Zynovia    F      5\n",
      "Zyona      F      5\n",
      "Zyri       F      5\n",
      "Zyrihanna  F      5\n",
      "\n",
      "[17544 rows x 2 columns]\n"
     ]
    }
   ],
   "source": [
    "print(males)\n",
    "print(females)"
   ]
  },
  {
   "cell_type": "code",
   "execution_count": 96,
   "metadata": {},
   "outputs": [
    {
     "name": "stdout",
     "output_type": "stream",
     "text": [
      "0\n",
      "Liam      20272\n",
      "Noah      18739\n",
      "Oliver    14616\n",
      "Elijah    12708\n",
      "James     12367\n",
      "Name: 2, dtype: int64\n",
      "0\n",
      "Olivia       17728\n",
      "Emma         15433\n",
      "Charlotte    13285\n",
      "Amelia       12952\n",
      "Ava          12759\n",
      "Name: 2, dtype: int64\n"
     ]
    }
   ],
   "source": [
    "sorted_males = males.iloc[:, 1].sort_values(ascending=False).iloc[:5]\n",
    "print(sorted_males)\n",
    "sorted_females = females.iloc[:, 1].sort_values(ascending=False).iloc[:5]\n",
    "print(sorted_females)"
   ]
  },
  {
   "cell_type": "code",
   "execution_count": 99,
   "metadata": {},
   "outputs": [
    {
     "name": "stdout",
     "output_type": "stream",
     "text": [
      "0\n",
      "Liam         20272\n",
      "Noah         18739\n",
      "Oliver       14616\n",
      "Elijah       12708\n",
      "James        12367\n",
      "Olivia       17728\n",
      "Emma         15433\n",
      "Charlotte    13285\n",
      "Amelia       12952\n",
      "Ava          12759\n",
      "Name: 2, dtype: int64\n"
     ]
    }
   ],
   "source": [
    "data = [sorted_males, sorted_females]\n",
    "new_file = pd.concat(data)\n",
    "print(new_file)"
   ]
  },
  {
   "cell_type": "code",
   "execution_count": 100,
   "metadata": {},
   "outputs": [],
   "source": [
    "new_file.to_excel(\"../datasets/names/top5.xlsx\")"
   ]
  }
 ],
 "metadata": {
  "kernelspec": {
   "display_name": "Python 3 (ipykernel)",
   "language": "python",
   "name": "python3"
  },
  "language_info": {
   "codemirror_mode": {
    "name": "ipython",
    "version": 3
   },
   "file_extension": ".py",
   "mimetype": "text/x-python",
   "name": "python",
   "nbconvert_exporter": "python",
   "pygments_lexer": "ipython3",
   "version": "3.9.13"
  }
 },
 "nbformat": 4,
 "nbformat_minor": 2
}
